{
 "cells": [
  {
   "cell_type": "markdown",
   "metadata": {},
   "source": [
    "# Parsing raw XML from Stackoverflow [data dump](https://archive.org/details/stackexchange)\n",
    "\n",
    "To use these scripts, download the \"Comments\" and \"Posts\" XML files. These scripts will parse out any attributes you want from these files. I used them to parse out the titles and body-text from the Posts file, and the text from the comments.\n",
    "\n",
    "Note: for stack overflow, \"posts\" encompass both initial questions posed by users and the answers supplied by other users. Only the initial questions have titles, so the overall yield of titles will be lower than the number of \"posts\" processed.\n",
    "\n",
    "Note: the posts file is huge, so these scripts extract titles from each post serially and write to file.\n",
    "\n",
    "Inspiration:\n",
    "\n",
    "http://boscoh.com/programming/reading-xml-serially.html\n",
    "\n",
    "https://www.ibm.com/developerworks/library/x-hiperfparse/index.html"
   ]
  },
  {
   "cell_type": "code",
   "execution_count": 1,
   "metadata": {},
   "outputs": [],
   "source": [
    "from lxml import etree"
   ]
  },
  {
   "cell_type": "code",
   "execution_count": 2,
   "metadata": {},
   "outputs": [],
   "source": [
    "def serially_parse_xml(source, destination, attributes, start=0, stop=100000):\n",
    "    \"\"\" there are many millions of posts. use 'start' and 'stop' if you\n",
    "    ever want to parse some titles at one point in time, and then want to\n",
    "    add more at a later point\"\"\"\n",
    "    if isinstance(attributes, str):\n",
    "        attributes = [attributes]\n",
    "    context = etree.iterparse(source)\n",
    "    i=start\n",
    "    for _, elem in context:\n",
    "        i+=1\n",
    "        if i <= start:\n",
    "            continue\n",
    "        for attribute in attributes:\n",
    "            try: \n",
    "                destination.write(elem.attrib[attribute]+'\\n')\n",
    "            except KeyError:\n",
    "                continue\n",
    "        elem.clear()\n",
    "        while elem.getprevious() is not None:\n",
    "            del elem.getparent()[0]  # clean up preceding siblings\n",
    "        if i%1000000==0:\n",
    "            print(\"{} posts parsed\".format(i))\n",
    "        if stop and i >= stop:\n",
    "            break\n",
    "    print(\"Parsing completed at {}\".format(i))"
   ]
  },
  {
   "cell_type": "markdown",
   "metadata": {},
   "source": [
    "### Comments"
   ]
  },
  {
   "cell_type": "code",
   "execution_count": null,
   "metadata": {},
   "outputs": [],
   "source": [
    "path = \"/\"\n",
    "with open(path+'comments2.txt','w') as dest:\n",
    "    serially_parse_xml(path+'Comments.xml', dest, 'Text')"
   ]
  },
  {
   "cell_type": "markdown",
   "metadata": {},
   "source": [
    "### Full Posts (title, if exists, and body)"
   ]
  },
  {
   "cell_type": "code",
   "execution_count": null,
   "metadata": {
    "scrolled": true
   },
   "outputs": [
    {
     "name": "stdout",
     "output_type": "stream",
     "text": [
      "1000000 posts parsed\n",
      "2000000 posts parsed\n",
      "3000000 posts parsed\n",
      "4000000 posts parsed\n",
      "5000000 posts parsed\n",
      "6000000 posts parsed\n",
      "7000000 posts parsed\n",
      "8000000 posts parsed\n",
      "9000000 posts parsed\n",
      "10000000 posts parsed\n",
      "11000000 posts parsed\n",
      "12000000 posts parsed\n",
      "13000000 posts parsed\n",
      "14000000 posts parsed\n",
      "15000000 posts parsed\n",
      "16000000 posts parsed\n",
      "17000000 posts parsed\n",
      "18000000 posts parsed\n",
      "19000000 posts parsed\n",
      "20000000 posts parsed\n",
      "21000000 posts parsed\n",
      "22000000 posts parsed\n",
      "23000000 posts parsed\n",
      "24000000 posts parsed\n",
      "25000000 posts parsed\n",
      "26000000 posts parsed\n",
      "27000000 posts parsed\n",
      "28000000 posts parsed\n",
      "29000000 posts parsed\n",
      "30000000 posts parsed\n",
      "31000000 posts parsed\n",
      "32000000 posts parsed\n",
      "33000000 posts parsed\n",
      "34000000 posts parsed\n"
     ]
    }
   ],
   "source": [
    "path = \"/\"\n",
    "with open(path+'posts.txt','w') as dest:\n",
    "    serially_parse_xml(path+'Posts.xml', dest, ['Title','Body'])"
   ]
  },
  {
   "cell_type": "markdown",
   "metadata": {},
   "source": [
    "## Just titles"
   ]
  },
  {
   "cell_type": "code",
   "execution_count": 3,
   "metadata": {
    "scrolled": true
   },
   "outputs": [
    {
     "name": "stdout",
     "output_type": "stream",
     "text": [
      "51000000 posts parsed\n",
      "52000000 posts parsed\n",
      "53000000 posts parsed\n",
      "54000000 posts parsed\n",
      "55000000 posts parsed\n",
      "56000000 posts parsed\n",
      "57000000 posts parsed\n",
      "58000000 posts parsed\n",
      "59000000 posts parsed\n",
      "60000000 posts parsed\n",
      "61000000 posts parsed\n",
      "62000000 posts parsed\n",
      "63000000 posts parsed\n",
      "64000000 posts parsed\n",
      "65000000 posts parsed\n",
      "66000000 posts parsed\n",
      "67000000 posts parsed\n",
      "68000000 posts parsed\n",
      "69000000 posts parsed\n",
      "70000000 posts parsed\n",
      "71000000 posts parsed\n",
      "72000000 posts parsed\n",
      "73000000 posts parsed\n",
      "74000000 posts parsed\n",
      "75000000 posts parsed\n",
      "Parsing completed at 75000000\n"
     ]
    }
   ],
   "source": [
    "# iterate through 75,000,000 posts and get titles for those that have them\n",
    "srcpath = '/'\n",
    "destpath = '/'\n",
    "with open(destpath+'posts_titles_50M.txt','a') as dest:\n",
    "    serially_parse_xml(srcpath+'Posts.xml', dest, ['Title'], stop=75000000)"
   ]
  }
 ],
 "metadata": {
  "kernelspec": {
   "display_name": "Python 3",
   "language": "python",
   "name": "python3"
  },
  "language_info": {
   "codemirror_mode": {
    "name": "ipython",
    "version": 3
   },
   "file_extension": ".py",
   "mimetype": "text/x-python",
   "name": "python",
   "nbconvert_exporter": "python",
   "pygments_lexer": "ipython3",
   "version": "3.6.4"
  }
 },
 "nbformat": 4,
 "nbformat_minor": 2
}
